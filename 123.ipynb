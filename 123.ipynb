{
 "cells": [
  {
   "cell_type": "code",
   "execution_count": 582,
   "metadata": {},
   "outputs": [],
   "source": [
    "import pandas as pd\n",
    "import matplotlib.pyplot as plt\n",
    "import numpy as nm\n",
    "import warnings\n",
    "warnings.filterwarnings(\"ignore\")\n",
    "%matplotlib inline"
   ]
  },
  {
   "cell_type": "markdown",
   "metadata": {},
   "source": [
    "Anthony Fantano aka 'Theneedledrop' aka 'The Melon' is one of YouTube's most popular music reviewers.\n",
    "He reviews a wide variety of music from Hip-Hop to Indie with a bit of humor. I thought it would be \n",
    "be interesting to compare the statistics of his reviews and the artists who he reviews. I used data of\n",
    "about 1700 reviews from 2010 to 2018 to formulate the relations."
   ]
  },
  {
   "cell_type": "markdown",
   "metadata": {},
   "source": [
    "## Data Dictionary : \n",
    "       Column 1 : sl_no       : It gives the number of reviews starting from 0.\n",
    "       Column 2 : title       : This column displays the Title of the Record.\n",
    "       Column 3 : artist      : This column gives information about the Arist of the Record.\n",
    "       Column 4 : review_date : It tells the date when the album was reviewed.\n",
    "       Column 5 : review_type : This column tells what type of Record was reviewed(Album, EP)\n",
    "       Column 6 : score       : It represents the score given to that particular Record by Anothony Fantano.\n",
    "       Column 7 : word_score  : Since he doesn't always give a score he also rates an album by a word.\n",
    "       Column 8 : best_tracks : This column showcases all the tracks that Anthony Fantano thought were \n",
    "                                the best in the Record.\n",
    "       Column 9 : worst_track : This colmun displays the name of the worst tracks on the Record according to him.\n",
    "       Column 10: link        : The link of the YouTube Video."
   ]
  },
  {
   "cell_type": "code",
   "execution_count": 597,
   "metadata": {},
   "outputs": [],
   "source": [
    "melon = pd.read_csv(\"fantano_reviews.csv\")\n",
    "melon = melon.fillna('')"
   ]
  },
  {
   "cell_type": "code",
   "execution_count": 600,
   "metadata": {},
   "outputs": [
    {
     "name": "stdout",
     "output_type": "stream",
     "text": [
      "The average score handed out by Anthony Fantano is found to be 6.376187460417986\n"
     ]
    },
    {
     "data": {
      "image/png": "[encoded data removed]",
      "text/plain": [
       "<Figure size 432x288 with 1 Axes>"
      ]
     },
     "metadata": {},
     "output_type": "display_data"
    }
   ],
   "source": [
    "#creating a data frame, score_sizes with 2 columns : score and number of records.\n",
    "score_sizes = melon.groupby('score')\n",
    "score_sizes = score_sizes.size()\n",
    "score_sizes = pd.DataFrame(score_sizes)\n",
    "\n",
    "#creating a bar graph : x axis is score and y axis is number\n",
    "score_sizes.plot(kind = 'bar', legend = False)\n",
    "plt.ylabel(\"Number of Records\")\n",
    "plt.title('Variations of Scores')\n",
    "\n",
    "#creating a line to display the average score : 6.376187460417986\n",
    "melon[['score']] = melon[['score']].apply(pd.to_numeric)\n",
    "avg = float(melon[['score']].mean())\n",
    "plt.axvline(x = avg, ymin = -10, ymax = 400, linewidth = 2, color = 'r')\n",
    "\n",
    "print(\"The average score handed out by Anthony Fantano is found to be\",avg)"
   ]
  },
  {
   "cell_type": "markdown",
   "metadata": {},
   "source": [
    "The average score handed out by him is lower than expected considering he reviews only a small and selected number of albums compared to sites such as Pitchfork. (more on that later)"
   ]
  },
  {
   "cell_type": "code",
   "execution_count": 585,
   "metadata": {
    "scrolled": false
   },
   "outputs": [
    {
     "name": "stdout",
     "output_type": "stream",
     "text": [
      "The top bands reviewed by Anthony Fantano\n"
     ]
    },
    {
     "data": {
      "text/html": [
       "<div>\n",
       "<style scoped>\n",
       "    .dataframe tbody tr th:only-of-type {\n",
       "        vertical-align: middle;\n",
       "    }\n",
       "\n",
       "    .dataframe tbody tr th {\n",
       "        vertical-align: top;\n",
       "    }\n",
       "\n",
       "    .dataframe thead th {\n",
       "        text-align: right;\n",
       "    }\n",
       "</style>\n",
       "<table border=\"1\" class=\"dataframe\">\n",
       "  <thead>\n",
       "    <tr style=\"text-align: right;\">\n",
       "      <th></th>\n",
       "      <th>artist</th>\n",
       "      <th>no</th>\n",
       "    </tr>\n",
       "  </thead>\n",
       "  <tbody>\n",
       "    <tr>\n",
       "      <th>0</th>\n",
       "      <td>Death Grips</td>\n",
       "      <td>9</td>\n",
       "    </tr>\n",
       "    <tr>\n",
       "      <th>1</th>\n",
       "      <td>Big K.R.I.T.</td>\n",
       "      <td>7</td>\n",
       "    </tr>\n",
       "    <tr>\n",
       "      <th>2</th>\n",
       "      <td>The Weeknd</td>\n",
       "      <td>6</td>\n",
       "    </tr>\n",
       "    <tr>\n",
       "      <th>3</th>\n",
       "      <td>Chelsea Wolfe</td>\n",
       "      <td>5</td>\n",
       "    </tr>\n",
       "    <tr>\n",
       "      <th>4</th>\n",
       "      <td>Mac Miller</td>\n",
       "      <td>5</td>\n",
       "    </tr>\n",
       "    <tr>\n",
       "      <th>5</th>\n",
       "      <td>of Montreal</td>\n",
       "      <td>5</td>\n",
       "    </tr>\n",
       "    <tr>\n",
       "      <th>6</th>\n",
       "      <td>Mount Eerie</td>\n",
       "      <td>5</td>\n",
       "    </tr>\n",
       "    <tr>\n",
       "      <th>7</th>\n",
       "      <td>J. Cole</td>\n",
       "      <td>5</td>\n",
       "    </tr>\n",
       "    <tr>\n",
       "      <th>8</th>\n",
       "      <td>The Underachievers</td>\n",
       "      <td>5</td>\n",
       "    </tr>\n",
       "  </tbody>\n",
       "</table>\n",
       "</div>"
      ],
      "text/plain": [
       "               artist  no\n",
       "0         Death Grips   9\n",
       "1        Big K.R.I.T.   7\n",
       "2          The Weeknd   6\n",
       "3       Chelsea Wolfe   5\n",
       "4          Mac Miller   5\n",
       "5         of Montreal   5\n",
       "6         Mount Eerie   5\n",
       "7             J. Cole   5\n",
       "8  The Underachievers   5"
      ]
     },
     "execution_count": 585,
     "metadata": {},
     "output_type": "execute_result"
    },
    {
     "data": {
      "image/png": "[encoded data removed]",
      "text/plain": [
       "<Figure size 432x288 with 1 Axes>"
      ]
     },
     "metadata": {},
     "output_type": "display_data"
    }
   ],
   "source": [
    "#graphs the artists who were reviewed the most number of times\n",
    "#putting number of times reviewed and artist name in a dataframe\n",
    "no = melon['artist'].value_counts().tolist()\n",
    "artists = melon['artist'].value_counts().keys().tolist()\n",
    "no_artists = pd.DataFrame({'artist':artists,'no':no})\n",
    "\n",
    "yes = no_artists.loc[no_artists['no'] > 4]\n",
    "yes[:5].plot.bar(x='artist',y='no',rot=0,legend=False)\n",
    "\n",
    "print(\"The top bands reviewed by Anthony Fantano\")\n",
    "yes"
   ]
  },
  {
   "cell_type": "code",
   "execution_count": 586,
   "metadata": {},
   "outputs": [
    {
     "name": "stdout",
     "output_type": "stream",
     "text": [
      "The average of all the bands that have been reviewed once : score    6.288862\n",
      "dtype: float64\n",
      "The average of all the bands that have been reviewed more than once : score    6.469816\n",
      "dtype: float64\n"
     ]
    },
    {
     "data": {
      "image/png": "[encoded data removed]",
      "text/plain": [
       "<Figure size 504x504 with 1 Axes>"
      ]
     },
     "metadata": {},
     "output_type": "display_data"
    }
   ],
   "source": [
    "#plots how many times artists were reviewed \n",
    "times=no_artists['no'].value_counts().tolist()\n",
    "nos=[1,2,3,4,5,6,7,9]\n",
    "timedf = pd.DataFrame({'No. of times reviewed':nos,'No. of Artists':times},index=[1,2,3,4,5,6,7,9])\n",
    "timedf.plot.pie(y='No. of Artists',figsize=(7,7))\n",
    "plt.ylabel('No. of Times Reviewed')\n",
    "timedf\n",
    "\n",
    "#average score for albums that were reviewed once(avg1) and more than once(avg2)\n",
    "copy = melon\n",
    "copy1 = melon\n",
    "once = no_artists.loc[no_artists['no'] == 1]#list of artists who got reviewed once\n",
    "once = once['artist'].tolist()\n",
    "def pres(x):\n",
    "    if x in once:\n",
    "        return 1\n",
    "    else:\n",
    "        return ''\n",
    "def notpres(x):\n",
    "    if x not in once:\n",
    "        return 2\n",
    "    else:\n",
    "        return ''\n",
    "    \n",
    "copy['times'] = melon['artist'].apply(lambda x:pres(x))\n",
    "copy = copy.loc[copy['times'] == 1]\n",
    "avg1 = copy[['score']].mean()\n",
    "copy1['times'] = melon['artist'].apply(lambda x:notpres(x))\n",
    "copy1 = copy1.loc[copy1['times'] == 2]\n",
    "avg2 = copy1[['score']].mean()\n",
    "\n",
    "print(\"The average of all the bands that have been reviewed once :\",avg1)\n",
    "print(\"The average of all the bands that have been reviewed more than once :\",avg2)"
   ]
  },
  {
   "cell_type": "markdown",
   "metadata": {},
   "source": [
    "According to the data, we see that Anthony Fantano mostly reviews bands just once. I first thought this was\n",
    "because the artists had made only one record so far, but a quick search showed otherwise(for most of them).\n",
    "To find out why he reviewed most artists only once, even though they had released new albums, I first checked\n",
    "if the number of views on these videos were low compared to the others. I was suprised to see that they were\n",
    "not much lower than that of the other records. Also some bands like Iceage who videos had views(55k,106k and\n",
    "84k) were reviewed 3 times.The Averagre viewership of his viedos is 138k). Popular artists like Ed Sheeran and\n",
    "Adele were reviewed just once. This ruled out monetary gain ruling which artists are reviewed. I then thought \n",
    "that maybe the average ratings of the bands reviewed once were low. So I checked the average which was found\n",
    "to be 6.2. The average score for the artists he reviewed multiple times was 6.46. This is very different.\n",
    "I then saw that he posts 5 videos a week and that he appeals to mostly indie and hip-hop fans. So I came\n",
    "to the conlusion that he reviews artists that are popular in those genres."
   ]
  },
  {
   "cell_type": "code",
   "execution_count": 587,
   "metadata": {},
   "outputs": [
    {
     "data": {
      "text/plain": [
       "<matplotlib.axes._subplots.AxesSubplot at 0x7f8c6f557908>"
      ]
     },
     "execution_count": 587,
     "metadata": {},
     "output_type": "execute_result"
    },
    {
     "data": {
      "image/png": "[encoded data removed]",
      "text/plain": [
       "<Figure size 432x288 with 1 Axes>"
      ]
     },
     "metadata": {},
     "output_type": "display_data"
    }
   ],
   "source": [
    "#graphs records reviewed per year\n",
    "#removes the year from the date format yyyy-mm-dd\n",
    "melon['year']=melon['review_date'].apply(lambda x:str(x)[0:4])\n",
    "\n",
    "#putting everything in a dataframe\n",
    "no = melon['year'].value_counts().tolist()\n",
    "year = melon['year'].value_counts().keys().tolist()\n",
    "yr_stats = pd.DataFrame({'year':year,'number':no})\n",
    "\n",
    "yr_stats.sort_values(['year'],ascending=True).plot.bar(x='year',y='number',legend=False)"
   ]
  },
  {
   "cell_type": "markdown",
   "metadata": {},
   "source": [
    "The above Bar Graph shows how many records he has reviewed per year."
   ]
  },
  {
   "cell_type": "code",
   "execution_count": 588,
   "metadata": {},
   "outputs": [
    {
     "data": {
      "text/html": [
       "<div>\n",
       "<style scoped>\n",
       "    .dataframe tbody tr th:only-of-type {\n",
       "        vertical-align: middle;\n",
       "    }\n",
       "\n",
       "    .dataframe tbody tr th {\n",
       "        vertical-align: top;\n",
       "    }\n",
       "\n",
       "    .dataframe thead th {\n",
       "        text-align: right;\n",
       "    }\n",
       "</style>\n",
       "<table border=\"1\" class=\"dataframe\">\n",
       "  <thead>\n",
       "    <tr style=\"text-align: right;\">\n",
       "      <th></th>\n",
       "      <th>average</th>\n",
       "      <th>year</th>\n",
       "    </tr>\n",
       "  </thead>\n",
       "  <tbody>\n",
       "    <tr>\n",
       "      <th>7</th>\n",
       "      <td>6.397906</td>\n",
       "      <td>2010</td>\n",
       "    </tr>\n",
       "    <tr>\n",
       "      <th>5</th>\n",
       "      <td>6.178404</td>\n",
       "      <td>2011</td>\n",
       "    </tr>\n",
       "    <tr>\n",
       "      <th>1</th>\n",
       "      <td>6.478723</td>\n",
       "      <td>2012</td>\n",
       "    </tr>\n",
       "    <tr>\n",
       "      <th>4</th>\n",
       "      <td>6.225962</td>\n",
       "      <td>2013</td>\n",
       "    </tr>\n",
       "    <tr>\n",
       "      <th>3</th>\n",
       "      <td>6.390625</td>\n",
       "      <td>2014</td>\n",
       "    </tr>\n",
       "    <tr>\n",
       "      <th>0</th>\n",
       "      <td>6.577236</td>\n",
       "      <td>2015</td>\n",
       "    </tr>\n",
       "    <tr>\n",
       "      <th>6</th>\n",
       "      <td>6.409357</td>\n",
       "      <td>2016</td>\n",
       "    </tr>\n",
       "    <tr>\n",
       "      <th>2</th>\n",
       "      <td>6.356481</td>\n",
       "      <td>2017</td>\n",
       "    </tr>\n",
       "    <tr>\n",
       "      <th>8</th>\n",
       "      <td>6.649351</td>\n",
       "      <td>2018</td>\n",
       "    </tr>\n",
       "  </tbody>\n",
       "</table>\n",
       "</div>"
      ],
      "text/plain": [
       "    average  year\n",
       "7  6.397906  2010\n",
       "5  6.178404  2011\n",
       "1  6.478723  2012\n",
       "4  6.225962  2013\n",
       "3  6.390625  2014\n",
       "0  6.577236  2015\n",
       "6  6.409357  2016\n",
       "2  6.356481  2017\n",
       "8  6.649351  2018"
      ]
     },
     "execution_count": 588,
     "metadata": {},
     "output_type": "execute_result"
    },
    {
     "data": {
      "image/png": "[encoded data removed]",
      "text/plain": [
       "<Figure size 432x288 with 1 Axes>"
      ]
     },
     "metadata": {},
     "output_type": "display_data"
    }
   ],
   "source": [
    "#graphs average rating per year\n",
    "#writing the average rating of every year in a new column\n",
    "melon['avg_yr'] = melon.year.map(melon.groupby(['year']).score.mean())\n",
    "\n",
    "#putting year and average rating in a dataframe\n",
    "avr = [0,0,0,0,0,0,0,0,0]\n",
    "y = 2010\n",
    "i = 0\n",
    "for j in range(1736):\n",
    "    if int(melon.at[j,'year']) == y:\n",
    "        avr[i] = melon.at[j,'avg_yr']#extracing the ratinig into a list\n",
    "        i = i+1\n",
    "        y = y+1\n",
    "avg_yr=pd.DataFrame({'average':avr,'year':year})\n",
    "\n",
    "avg_yr[['year']] = avg_yr[['year']].apply(pd.to_numeric)\n",
    "avg_yr = avg_yr.sort_values(['year'],ascending=True)\n",
    "\n",
    "avg_yr.plot.line(x = 'year', y= 'average')\n",
    "plt.ylabel('Average Score')\n",
    "plt.xlabel('Year')\n",
    "avg_yr"
   ]
  },
  {
   "cell_type": "markdown",
   "metadata": {},
   "source": [
    "The above Line Graph displays the average score given every year from 2010 to 2018*."
   ]
  },
  {
   "cell_type": "code",
   "execution_count": 589,
   "metadata": {},
   "outputs": [
    {
     "data": {
      "text/plain": [
       "<matplotlib.axes._subplots.AxesSubplot at 0x7f8c6f4a55c0>"
      ]
     },
     "execution_count": 589,
     "metadata": {},
     "output_type": "execute_result"
    },
    {
     "data": {
      "image/png": "[encoded data removed]",
      "text/plain": [
       "<Figure size 432x288 with 1 Axes>"
      ]
     },
     "metadata": {},
     "output_type": "display_data"
    }
   ],
   "source": [
    "#wrting the average scores of every artist in the original table for every cell\n",
    "melon['avg_rate'] = melon.artist.map(melon.groupby(['artist']).score.mean())\n",
    "\n",
    "#putting everything into a dataframe\n",
    "copy = melon.sort_values(['avg_rate'],ascending=False)\n",
    "artists = copy['artist'].tolist()\n",
    "avgr = copy['avg_rate'].tolist()\n",
    "avg_rate=pd.DataFrame({'artist':artists,'Average Rating':avgr})\n",
    "\n",
    "#plotting the first 10 elements\n",
    "avg_rate[:10].plot.bar(x='artist',y='Average Rating')"
   ]
  },
  {
   "cell_type": "markdown",
   "metadata": {},
   "source": [
    "    The graph above shows the highest rated artists."
   ]
  },
  {
   "cell_type": "code",
   "execution_count": 590,
   "metadata": {
    "scrolled": false
   },
   "outputs": [
    {
     "data": {
      "text/plain": [
       "Text(0.5,1,'Comparison of total Albums rated')"
      ]
     },
     "execution_count": 590,
     "metadata": {},
     "output_type": "execute_result"
    },
    {
     "data": {
      "image/png": "[encoded data removed]",
      "text/plain": [
       "<Figure size 432x288 with 1 Axes>"
      ]
     },
     "metadata": {},
     "output_type": "display_data"
    },
    {
     "data": {
      "image/png": "[encoded data removed]",
      "text/plain": [
       "<Figure size 432x288 with 1 Axes>"
      ]
     },
     "metadata": {},
     "output_type": "display_data"
    }
   ],
   "source": [
    "#using dataset p4kreviews to compare reviews of www.pitchfork.com and anthony fantano\n",
    "pitch = pd.read_csv(\"p4kreviews.csv\",encoding='ISO-8859-1')\n",
    "p = [0]\n",
    "m = [0]\n",
    "\n",
    "\n",
    "p[0] = pitch['score'].mean()\n",
    "m[0] = melon['score'].mean()\n",
    "rate=pd.DataFrame({'Pitchfork':p,'Anthony Fantano':m})\n",
    "rate.plot.bar()\n",
    "plt.title('Comparison of Average Scores')\n",
    "\n",
    "p[0] = len(pitch.index)\n",
    "m[0] = len(melon.index)\n",
    "no=pd.DataFrame({'Pitchfork':p,'Anthony Fantano':m})\n",
    "no.plot.bar()\n",
    "plt.title('Comparison of total Albums rated')"
   ]
  },
  {
   "cell_type": "code",
   "execution_count": 591,
   "metadata": {},
   "outputs": [
    {
     "data": {
      "text/plain": [
       "<matplotlib.axes._subplots.AxesSubplot at 0x7f8c6fb20160>"
      ]
     },
     "execution_count": 591,
     "metadata": {},
     "output_type": "execute_result"
    },
    {
     "data": {
      "image/png": "[encoded data removed]",
      "text/plain": [
       "<Figure size 432x288 with 1 Axes>"
      ]
     },
     "metadata": {},
     "output_type": "display_data"
    }
   ],
   "source": [
    "#compares no of reviews\n",
    "years = [1999,2000,2001,2002,2003,2004,2005,2006,2007,2008,2009,2010,2011,2012,2013,2014,2015,2016,2017,2018]\n",
    "pcount = [0,0,0,0,0,0,0,0,0,0,0,0,0,0,0,0,0,0,0,0]\n",
    "mcount = [0,0,0,0,0,0,0,0,0,0,0,0,0,0,0,0,0,0,0,0] \n",
    "\n",
    "#fills pcount and mcount with the number of reviews\n",
    "for i in range(20):\n",
    "    for j in range(19555):\n",
    "        if str(years[i]) in pitch.at[j,'date']:\n",
    "            pcount[i] = pcount[i] + 1\n",
    "\n",
    "for i in range(20):\n",
    "    for j in range(1736):\n",
    "        if str(years[i]) in melon.at[j,'review_date']:\n",
    "            mcount[i] = mcount[i] + 1\n",
    "            \n",
    "compare = pd.DataFrame({'Pitchfork':pcount,'Anthony Fantano':mcount},index=years)\n",
    "compare.plot.bar()"
   ]
  },
  {
   "cell_type": "markdown",
   "metadata": {},
   "source": [
    "Comparison of albums reviewed by Pitchfork and Anthony Fantano since 1999.\n",
    " "
   ]
  },
  {
   "cell_type": "markdown",
   "metadata": {},
   "source": [
    "As seen from the graph, Pitchfork has reviewed almost 11 times as many albums as Anthony Fantano. This is obviously due to the fact that Pitchfork is a huge and quite old company now, whereas he is a single reviewer."
   ]
  },
  {
   "cell_type": "code",
   "execution_count": 603,
   "metadata": {},
   "outputs": [
    {
     "name": "stdout",
     "output_type": "stream",
     "text": [
      "The total number of records compared : 941\n",
      "The average score of Pitchfork over Anthony Fantano is : 1.0902231668437825\n"
     ]
    }
   ],
   "source": [
    "#sees how the scores for the same albums differ \n",
    "#takes the average of all the differences (pitchfork - melon)\n",
    "total_sum   = 0\n",
    "total_count = 0\n",
    "copy = melon\n",
    "for i in range(1736):\n",
    "    if not copy.at[i,'score']>=0:\n",
    "        copy.at[i,'link'] = '1234'\n",
    "for i in range(1736):\n",
    "    for j in range(19555):\n",
    "        if str(copy.at[i,'title']).replace(\" \",\"\") == str(pitch.at[j,'album']).replace(\" \",\"\"):\n",
    "            if(copy.at[i,'link'] != '1234'):\n",
    "                total_sum = total_sum + (float(pitch.at[j,'score']) - float(copy.at[i,'score']))\n",
    "                #print(total_sum, copy.at[i,'score'], copy.at[i,'title'])\n",
    "                total_count = total_count + 1\n",
    "            break\n",
    "print(\"The total number of records compared :\",total_count)\n",
    "avg = total_sum/total_count\n",
    "print(\"The average score of Pitchfork over Anthony Fantano is :\",avg)"
   ]
  },
  {
   "cell_type": "markdown",
   "metadata": {},
   "source": [
    "Acoording to the calculations above, Pitchfork gave an average of 1.09 points more to all records compared to Anthony Fantano. This was based on 941 records which were common to both datasets. This was a really interesting find because it shows that Anthony Fantano is conservative compared to Pitchfork which is liberal."
   ]
  },
  {
   "cell_type": "code",
   "execution_count": null,
   "metadata": {},
   "outputs": [],
   "source": []
  }
 ],
 "metadata": {
  "kernelspec": {
   "display_name": "Python 3",
   "language": "python",
   "name": "python3"
  },
  "language_info": {
   "codemirror_mode": {
    "name": "ipython",
    "version": 3
   },
   "file_extension": ".py",
   "mimetype": "text/x-python",
   "name": "python",
   "nbconvert_exporter": "python",
   "pygments_lexer": "ipython3",
   "version": "3.6.5"
  }
 },
 "nbformat": 4,
 "nbformat_minor": 2
}
