{
 "cells": [
  {
   "cell_type": "code",
   "execution_count": 484,
   "metadata": {},
   "outputs": [],
   "source": [
    "import pandas as pd\n",
    "import matplotlib.pyplot as plt\n",
    "import numpy as nm\n",
    "import warnings\n",
    "warnings.filterwarnings(\"ignore\")\n",
    "%matplotlib inline"
   ]
  },
  {
   "cell_type": "code",
   "execution_count": 485,
   "metadata": {},
   "outputs": [
    {
     "name": "stdout",
     "output_type": "stream",
     "text": [
      "\tAnthony Fantano aka 'Theneedledrop' aka 'The Melon' is one of YouTube's most popular music reviewers.\n",
      "       He reviews a wide variety of music from Hip-Hop to Indie with a bit of humor. I thought it would be \n",
      "       be interesting to compare the statistics of his reviews and the artists who he reviews. I used data of\n",
      "       about 1700 reviews from 2010 to 2018 to formulate the relations.\n"
     ]
    }
   ],
   "source": [
    "print(\"\\tAnthony Fantano aka 'Theneedledrop' aka 'The Melon' is one of YouTube's most popular music reviewers.\\n\\\n",
    "       He reviews a wide variety of music from Hip-Hop to Indie with a bit of humor. I thought it would be \\n\\\n",
    "       be interesting to compare the statistics of his reviews and the artists who he reviews. I used data of\\n\\\n",
    "       about 1700 reviews from 2010 to 2018 to formulate the relations.\")"
   ]
  },
  {
   "cell_type": "code",
   "execution_count": 486,
   "metadata": {},
   "outputs": [
    {
     "name": "stdout",
     "output_type": "stream",
     "text": [
      "\tData Dictionary : \n",
      "       Column 1 : sl_no       : It gives the number of reviews starting from 0.\n",
      "       Column 2 : title       : This column displays the Title of the Record.\n",
      "       Column 3 : artist      : This column gives information about the Arist of the Record.\n",
      "       Column 4 : review_date : It tells the date when the album was reviewed.\n",
      "       Column 5 : review_type : This column tells what type of Record was reviewed(Album, EP)\n",
      "       Column 6 : score       : It represents the score given to that particular Record by Anothony Fantano.\n",
      "       Column 7 : word_score  : Since he doesn't always give a score he also rates an album by a word.\n",
      "       Column 8 : best_tracks : This column showcases all the tracks that Anthony Fantano thought were \n",
      "                                the best in the Record.\n",
      "       Column 9 : worst_track : This colmun displays the name of the worst tracks on the Record according to him.\n",
      "       Column 10: link        : The link of the YouTube Video.\n"
     ]
    }
   ],
   "source": [
    "print(\"\\tData Dictionary : \\n\\\n",
    "       Column 1 : sl_no       : It gives the number of reviews starting from 0.\\n\\\n",
    "       Column 2 : title       : This column displays the Title of the Record.\\n\\\n",
    "       Column 3 : artist      : This column gives information about the Arist of the Record.\\n\\\n",
    "       Column 4 : review_date : It tells the date when the album was reviewed.\\n\\\n",
    "       Column 5 : review_type : This column tells what type of Record was reviewed(Album, EP)\\n\\\n",
    "       Column 6 : score       : It represents the score given to that particular Record by Anothony Fantano.\\n\\\n",
    "       Column 7 : word_score  : Since he doesn't always give a score he also rates an album by a word.\\n\\\n",
    "       Column 8 : best_tracks : This column showcases all the tracks that Anthony Fantano thought were \\n\\\n",
    "                                the best in the Record.\\n\\\n",
    "       Column 9 : worst_track : This colmun displays the name of the worst tracks on the Record according to him.\\n\\\n",
    "       Column 10: link        : The link of the YouTube Video.\") "
   ]
  },
  {
   "cell_type": "code",
   "execution_count": 487,
   "metadata": {},
   "outputs": [
    {
     "data": {
      "text/html": [
       "<div>\n",
       "<style scoped>\n",
       "    .dataframe tbody tr th:only-of-type {\n",
       "        vertical-align: middle;\n",
       "    }\n",
       "\n",
       "    .dataframe tbody tr th {\n",
       "        vertical-align: top;\n",
       "    }\n",
       "\n",
       "    .dataframe thead th {\n",
       "        text-align: right;\n",
       "    }\n",
       "</style>\n",
       "<table border=\"1\" class=\"dataframe\">\n",
       "  <thead>\n",
       "    <tr style=\"text-align: right;\">\n",
       "      <th></th>\n",
       "      <th>Unnamed: 0</th>\n",
       "      <th>title</th>\n",
       "      <th>artist</th>\n",
       "      <th>review_date</th>\n",
       "      <th>review_type</th>\n",
       "      <th>score</th>\n",
       "      <th>word_score</th>\n",
       "      <th>best_tracks</th>\n",
       "      <th>worst_track</th>\n",
       "      <th>link</th>\n",
       "    </tr>\n",
       "  </thead>\n",
       "  <tbody>\n",
       "    <tr>\n",
       "      <th>0</th>\n",
       "      <td>0</td>\n",
       "      <td>Cosmogramma</td>\n",
       "      <td>Flying Lotus</td>\n",
       "      <td>2010-05-05</td>\n",
       "      <td>Album</td>\n",
       "      <td>8</td>\n",
       "      <td></td>\n",
       "      <td>[]</td>\n",
       "      <td></td>\n",
       "      <td>https://www.youtube.com/watch?v=KCuamde9Atc</td>\n",
       "    </tr>\n",
       "    <tr>\n",
       "      <th>1</th>\n",
       "      <td>1</td>\n",
       "      <td>Throat</td>\n",
       "      <td>Little Women</td>\n",
       "      <td>2010-05-09</td>\n",
       "      <td>Album</td>\n",
       "      <td>9</td>\n",
       "      <td></td>\n",
       "      <td>[]</td>\n",
       "      <td></td>\n",
       "      <td>https://www.youtube.com/watch?v=cndwH6byJnk</td>\n",
       "    </tr>\n",
       "    <tr>\n",
       "      <th>2</th>\n",
       "      <td>2</td>\n",
       "      <td>Latin</td>\n",
       "      <td>Holy Fuck</td>\n",
       "      <td>2010-05-10</td>\n",
       "      <td>Album</td>\n",
       "      <td>7</td>\n",
       "      <td></td>\n",
       "      <td>[]</td>\n",
       "      <td></td>\n",
       "      <td>https://www.youtube.com/watch?v=ySXryTlo9Ac</td>\n",
       "    </tr>\n",
       "    <tr>\n",
       "      <th>3</th>\n",
       "      <td>3</td>\n",
       "      <td>High Violet</td>\n",
       "      <td>The National</td>\n",
       "      <td>2010-05-11</td>\n",
       "      <td>Album</td>\n",
       "      <td>6</td>\n",
       "      <td></td>\n",
       "      <td>[]</td>\n",
       "      <td></td>\n",
       "      <td>https://www.youtube.com/watch?v=DuMUDldrG3g</td>\n",
       "    </tr>\n",
       "    <tr>\n",
       "      <th>4</th>\n",
       "      <td>4</td>\n",
       "      <td>At Echo Lake</td>\n",
       "      <td>Woods</td>\n",
       "      <td>2010-05-12</td>\n",
       "      <td>Album</td>\n",
       "      <td>8</td>\n",
       "      <td></td>\n",
       "      <td>[]</td>\n",
       "      <td></td>\n",
       "      <td>https://www.youtube.com/watch?v=ncrpTX6jR5w</td>\n",
       "    </tr>\n",
       "  </tbody>\n",
       "</table>\n",
       "</div>"
      ],
      "text/plain": [
       "   Unnamed: 0         title        artist review_date review_type score  \\\n",
       "0           0   Cosmogramma  Flying Lotus  2010-05-05       Album     8   \n",
       "1           1        Throat  Little Women  2010-05-09       Album     9   \n",
       "2           2         Latin     Holy Fuck  2010-05-10       Album     7   \n",
       "3           3   High Violet  The National  2010-05-11       Album     6   \n",
       "4           4  At Echo Lake         Woods  2010-05-12       Album     8   \n",
       "\n",
       "  word_score best_tracks worst_track  \\\n",
       "0                     []               \n",
       "1                     []               \n",
       "2                     []               \n",
       "3                     []               \n",
       "4                     []               \n",
       "\n",
       "                                          link  \n",
       "0  https://www.youtube.com/watch?v=KCuamde9Atc  \n",
       "1  https://www.youtube.com/watch?v=cndwH6byJnk  \n",
       "2  https://www.youtube.com/watch?v=ySXryTlo9Ac  \n",
       "3  https://www.youtube.com/watch?v=DuMUDldrG3g  \n",
       "4  https://www.youtube.com/watch?v=ncrpTX6jR5w  "
      ]
     },
     "execution_count": 487,
     "metadata": {},
     "output_type": "execute_result"
    }
   ],
   "source": [
    "melon = pd.read_csv(\"fantano_reviews.csv\")\n",
    "melon = melon.fillna('')\n",
    "melon.head()"
   ]
  },
  {
   "cell_type": "code",
   "execution_count": 488,
   "metadata": {},
   "outputs": [
    {
     "name": "stdout",
     "output_type": "stream",
     "text": [
      "The average score handed out by Anthony Fantano is found to be 6.376187460417986\n",
      "The average score is found to be a bit less compared to sites such as Pitchfork (shown later)\n"
     ]
    },
    {
     "data": {
      "image/png": "[encoded data removed]",
      "text/plain": [
       "<Figure size 432x288 with 1 Axes>"
      ]
     },
     "metadata": {},
     "output_type": "display_data"
    }
   ],
   "source": [
    "#creating a data frame, score_sizes with 2 columns : score and number of records.\n",
    "score_sizes = melon.groupby('score')\n",
    "score_sizes = score_sizes.size()\n",
    "score_sizes = pd.DataFrame(score_sizes)\n",
    "\n",
    "#creating a bar graph : x axis is score and y axis is number\n",
    "score_sizes.plot(kind = 'bar', legend = False)\n",
    "plt.ylabel(\"Number of Records\")\n",
    "plt.title('Variations of Scores')\n",
    "\n",
    "#creating a line to display the average score : 6.376187460417986\n",
    "melon[['score']] = melon[['score']].apply(pd.to_numeric)\n",
    "avg = float(melon[['score']].mean())\n",
    "plt.axvline(x = avg, ymin = -10, ymax = 400, linewidth = 2, color = 'r')\n",
    "\n",
    "print(\"The average score handed out by Anthony Fantano is found to be\",avg)\n",
    "print(\"The average score is found to be a bit less compared to sites such as Pitchfork (shown later)\")"
   ]
  },
  {
   "cell_type": "code",
   "execution_count": 489,
   "metadata": {
    "scrolled": false
   },
   "outputs": [
    {
     "name": "stdout",
     "output_type": "stream",
     "text": [
      "The top bands reviewed by Anthony Fantano\n"
     ]
    },
    {
     "data": {
      "text/html": [
       "<div>\n",
       "<style scoped>\n",
       "    .dataframe tbody tr th:only-of-type {\n",
       "        vertical-align: middle;\n",
       "    }\n",
       "\n",
       "    .dataframe tbody tr th {\n",
       "        vertical-align: top;\n",
       "    }\n",
       "\n",
       "    .dataframe thead th {\n",
       "        text-align: right;\n",
       "    }\n",
       "</style>\n",
       "<table border=\"1\" class=\"dataframe\">\n",
       "  <thead>\n",
       "    <tr style=\"text-align: right;\">\n",
       "      <th></th>\n",
       "      <th>artist</th>\n",
       "      <th>no</th>\n",
       "    </tr>\n",
       "  </thead>\n",
       "  <tbody>\n",
       "    <tr>\n",
       "      <th>0</th>\n",
       "      <td>Death Grips</td>\n",
       "      <td>9</td>\n",
       "    </tr>\n",
       "    <tr>\n",
       "      <th>1</th>\n",
       "      <td>Big K.R.I.T.</td>\n",
       "      <td>7</td>\n",
       "    </tr>\n",
       "    <tr>\n",
       "      <th>2</th>\n",
       "      <td>The Weeknd</td>\n",
       "      <td>6</td>\n",
       "    </tr>\n",
       "    <tr>\n",
       "      <th>3</th>\n",
       "      <td>Chelsea Wolfe</td>\n",
       "      <td>5</td>\n",
       "    </tr>\n",
       "    <tr>\n",
       "      <th>4</th>\n",
       "      <td>Mac Miller</td>\n",
       "      <td>5</td>\n",
       "    </tr>\n",
       "    <tr>\n",
       "      <th>5</th>\n",
       "      <td>of Montreal</td>\n",
       "      <td>5</td>\n",
       "    </tr>\n",
       "    <tr>\n",
       "      <th>6</th>\n",
       "      <td>Mount Eerie</td>\n",
       "      <td>5</td>\n",
       "    </tr>\n",
       "    <tr>\n",
       "      <th>7</th>\n",
       "      <td>J. Cole</td>\n",
       "      <td>5</td>\n",
       "    </tr>\n",
       "    <tr>\n",
       "      <th>8</th>\n",
       "      <td>The Underachievers</td>\n",
       "      <td>5</td>\n",
       "    </tr>\n",
       "  </tbody>\n",
       "</table>\n",
       "</div>"
      ],
      "text/plain": [
       "               artist  no\n",
       "0         Death Grips   9\n",
       "1        Big K.R.I.T.   7\n",
       "2          The Weeknd   6\n",
       "3       Chelsea Wolfe   5\n",
       "4          Mac Miller   5\n",
       "5         of Montreal   5\n",
       "6         Mount Eerie   5\n",
       "7             J. Cole   5\n",
       "8  The Underachievers   5"
      ]
     },
     "execution_count": 489,
     "metadata": {},
     "output_type": "execute_result"
    },
    {
     "data": {
      "image/png": "[encoded data removed]",
      "text/plain": [
       "<Figure size 432x288 with 1 Axes>"
      ]
     },
     "metadata": {},
     "output_type": "display_data"
    }
   ],
   "source": [
    "no = melon['artist'].value_counts().tolist()\n",
    "artists = melon['artist'].value_counts().keys().tolist()\n",
    "no_artists = pd.DataFrame({'artist':artists,'no':no})\n",
    "yes = no_artists.loc[no_artists['no'] > 4]\n",
    "yes[:5].plot.bar(x='artist',y='no',rot=0,legend=False)\n",
    "print(\"The top bands reviewed by Anthony Fantano\")\n",
    "yes"
   ]
  },
  {
   "cell_type": "code",
   "execution_count": 490,
   "metadata": {},
   "outputs": [
    {
     "name": "stdout",
     "output_type": "stream",
     "text": [
      "The average of all the bands that have been reviewed once : score    6.288862\n",
      "dtype: float64\n",
      "The average of all the bands that have been reviewed more than once : score    6.469816\n",
      "dtype: float64\n"
     ]
    },
    {
     "data": {
      "image/png": "[encoded data removed]",
      "text/plain": [
       "<Figure size 504x504 with 1 Axes>"
      ]
     },
     "metadata": {},
     "output_type": "display_data"
    }
   ],
   "source": [
    "times=no_artists['no'].value_counts().tolist()\n",
    "nos=[1,2,3,4,5,6,7,9]\n",
    "timedf = pd.DataFrame({'No. of times reviewed':nos,'No. of Artists':times},index=[1,2,3,4,5,6,7,9])\n",
    "timedf.plot.pie(y='No. of Artists',figsize=(7,7))\n",
    "timedf\n",
    "\n",
    "#average score for albums that were reviewed once\n",
    "copy = melon\n",
    "copy1 = melon\n",
    "pres1ce = no_artists.loc[no_artists['no'] == 1]\n",
    "pres1ce = pres1ce['artist'].tolist()\n",
    "def pres(x):\n",
    "    if x in pres1ce:\n",
    "        return 1\n",
    "    else:\n",
    "        return ''\n",
    "def notpres(x):\n",
    "    if x not in pres1ce:\n",
    "        return 2\n",
    "    else:\n",
    "        return ''\n",
    "copy['times'] = melon['artist'].apply(lambda x:pres(x))\n",
    "copy = copy.loc[copy['times'] == 1]\n",
    "avg1 = copy[['score']].mean()\n",
    "copy1['times'] = melon['artist'].apply(lambda x:notpres(x))\n",
    "copy1 = copy1.loc[copy1['times'] == 2]\n",
    "avg2 = copy1[['score']].mean()\n",
    "print(\"The average of all the bands that have been reviewed once :\",avg1)\n",
    "print(\"The average of all the bands that have been reviewed more than once :\",avg2)"
   ]
  },
  {
   "cell_type": "markdown",
   "metadata": {},
   "source": [
    "According to the data, we see that Anthony Fantano mostly reviews bands just once. I first thought this was\n",
    "because the artists had made only one record so far, but a quick search showed otherwise(for most of them).\n",
    "To find out why he reviewed most artists only once, even though they had released new albums, I first checked\n",
    "if the number of views on these videos were low compared to the others. I was suprised to see that they were\n",
    "not much lower than that of the other records. Also some bands like Iceage who videos had views(55k,106k and\n",
    "84k) were reviewed 3 times.The Averagre viewership of his viedos is 138k). Popular artists like Ed Sheeran and\n",
    "Adele were reviewed just once. This ruled out monetary gain ruling which artists are reviewed. I then thought \n",
    "that maybe the average ratings of the bands reviewed once were low. So I checked the average which was found\n",
    "to be 6.2. The average score for the artists he reviewed multiple times was 6.46. This is very different.\n",
    "I then saw that he posts 5 videos a week and that he appeals to mostly indie and hip-hop fans. So I came\n",
    "to the conlusion that he reviews artists that are popular in those genres."
   ]
  },
  {
   "cell_type": "code",
   "execution_count": 491,
   "metadata": {},
   "outputs": [
    {
     "data": {
      "text/plain": [
       "<matplotlib.axes._subplots.AxesSubplot at 0x7f8c702917b8>"
      ]
     },
     "execution_count": 491,
     "metadata": {},
     "output_type": "execute_result"
    },
    {
     "data": {
      "image/png": "[encoded data removed]",
      "text/plain": [
       "<Figure size 432x288 with 1 Axes>"
      ]
     },
     "metadata": {},
     "output_type": "display_data"
    }
   ],
   "source": [
    "melon['year']=melon['review_date'].apply(lambda x:str(x)[0:4])\n",
    "no = melon['year'].value_counts().tolist()\n",
    "year = melon['year'].value_counts().keys().tolist()\n",
    "yr_stats = pd.DataFrame({'year':year,'number':no})\n",
    "yr_stats.sort_values(['year'],ascending=True).plot.bar(x='year',y='number',legend=False)"
   ]
  },
  {
   "cell_type": "markdown",
   "metadata": {},
   "source": [
    "The above Bar Graph shows how many records he has reviewed per year."
   ]
  },
  {
   "cell_type": "code",
   "execution_count": 492,
   "metadata": {},
   "outputs": [
    {
     "data": {
      "text/html": [
       "<div>\n",
       "<style scoped>\n",
       "    .dataframe tbody tr th:only-of-type {\n",
       "        vertical-align: middle;\n",
       "    }\n",
       "\n",
       "    .dataframe tbody tr th {\n",
       "        vertical-align: top;\n",
       "    }\n",
       "\n",
       "    .dataframe thead th {\n",
       "        text-align: right;\n",
       "    }\n",
       "</style>\n",
       "<table border=\"1\" class=\"dataframe\">\n",
       "  <thead>\n",
       "    <tr style=\"text-align: right;\">\n",
       "      <th></th>\n",
       "      <th>average</th>\n",
       "      <th>year</th>\n",
       "    </tr>\n",
       "  </thead>\n",
       "  <tbody>\n",
       "    <tr>\n",
       "      <th>7</th>\n",
       "      <td>6.397906</td>\n",
       "      <td>2010</td>\n",
       "    </tr>\n",
       "    <tr>\n",
       "      <th>5</th>\n",
       "      <td>6.178404</td>\n",
       "      <td>2011</td>\n",
       "    </tr>\n",
       "    <tr>\n",
       "      <th>1</th>\n",
       "      <td>6.478723</td>\n",
       "      <td>2012</td>\n",
       "    </tr>\n",
       "    <tr>\n",
       "      <th>4</th>\n",
       "      <td>6.225962</td>\n",
       "      <td>2013</td>\n",
       "    </tr>\n",
       "    <tr>\n",
       "      <th>3</th>\n",
       "      <td>6.390625</td>\n",
       "      <td>2014</td>\n",
       "    </tr>\n",
       "    <tr>\n",
       "      <th>0</th>\n",
       "      <td>6.577236</td>\n",
       "      <td>2015</td>\n",
       "    </tr>\n",
       "    <tr>\n",
       "      <th>6</th>\n",
       "      <td>6.409357</td>\n",
       "      <td>2016</td>\n",
       "    </tr>\n",
       "    <tr>\n",
       "      <th>2</th>\n",
       "      <td>6.356481</td>\n",
       "      <td>2017</td>\n",
       "    </tr>\n",
       "    <tr>\n",
       "      <th>8</th>\n",
       "      <td>6.649351</td>\n",
       "      <td>2018</td>\n",
       "    </tr>\n",
       "  </tbody>\n",
       "</table>\n",
       "</div>"
      ],
      "text/plain": [
       "    average  year\n",
       "7  6.397906  2010\n",
       "5  6.178404  2011\n",
       "1  6.478723  2012\n",
       "4  6.225962  2013\n",
       "3  6.390625  2014\n",
       "0  6.577236  2015\n",
       "6  6.409357  2016\n",
       "2  6.356481  2017\n",
       "8  6.649351  2018"
      ]
     },
     "execution_count": 492,
     "metadata": {},
     "output_type": "execute_result"
    },
    {
     "data": {
      "image/png": "[encoded data removed]",
      "text/plain": [
       "<Figure size 432x288 with 1 Axes>"
      ]
     },
     "metadata": {},
     "output_type": "display_data"
    }
   ],
   "source": [
    "melon['avg_yr'] = melon.year.map(melon.groupby(['year']).score.mean())\n",
    "avr = [0,0,0,0,0,0,0,0,0]\n",
    "def getavg():\n",
    "    y = 2010\n",
    "    i = 0\n",
    "    for j in range(1736):\n",
    "        if int(melon.at[j,'year']) == y:\n",
    "            avr[i] = melon.at[j,'avg_yr']\n",
    "            i = i+1\n",
    "            y = y+1\n",
    "getavg()\n",
    "avg_yr=pd.DataFrame({'average':avr,'year':year})\n",
    "avg_yr[['year']] = avg_yr[['year']].apply(pd.to_numeric)\n",
    "avg_yr = avg_yr.sort_values(['year'],ascending=True)\n",
    "avg_yr.plot.line(x = 'year', y= 'average')\n",
    "plt.ylabel('Average Score')\n",
    "plt.xlabel('Year')\n",
    "avg_yr"
   ]
  },
  {
   "cell_type": "markdown",
   "metadata": {},
   "source": [
    "The above Line Graph displays the average score given every year from 2010 to 2018*."
   ]
  },
  {
   "cell_type": "code",
   "execution_count": 493,
   "metadata": {},
   "outputs": [
    {
     "data": {
      "text/plain": [
       "<matplotlib.axes._subplots.AxesSubplot at 0x7f8c701b0f60>"
      ]
     },
     "execution_count": 493,
     "metadata": {},
     "output_type": "execute_result"
    },
    {
     "data": {
      "image/png": "[encoded data removed]",
      "text/plain": [
       "<Figure size 432x288 with 1 Axes>"
      ]
     },
     "metadata": {},
     "output_type": "display_data"
    }
   ],
   "source": [
    "melon['avg_rate'] = melon.artist.map(melon.groupby(['artist']).score.mean())\n",
    "copy = melon.sort_values(['avg_rate'],ascending=False)\n",
    "artists = copy['artist'].tolist()\n",
    "avgr = copy['avg_rate'].tolist()\n",
    "avg_rate=pd.DataFrame({'artist':artists,'Average Rating':avgr})\n",
    "avg_rate[:10].plot.bar(x='artist',y='Average Rating')"
   ]
  },
  {
   "cell_type": "markdown",
   "metadata": {},
   "source": [
    "The graph above shows the highest rated artists."
   ]
  },
  {
   "cell_type": "code",
   "execution_count": 497,
   "metadata": {
    "scrolled": false
   },
   "outputs": [
    {
     "data": {
      "text/plain": [
       "Text(0.5,1,'Comparison of total Albums rated')"
      ]
     },
     "execution_count": 497,
     "metadata": {},
     "output_type": "execute_result"
    },
    {
     "data": {
      "image/png": "[encoded data removed]",
      "text/plain": [
       "<Figure size 432x288 with 1 Axes>"
      ]
     },
     "metadata": {},
     "output_type": "display_data"
    },
    {
     "data": {
      "image/png": "[encoded data removed]",
      "text/plain": [
       "<Figure size 432x288 with 1 Axes>"
      ]
     },
     "metadata": {},
     "output_type": "display_data"
    }
   ],
   "source": [
    "pitch = pd.read_csv(\"p4kreviews.csv\",encoding='ISO-8859-1')\n",
    "p = [0]\n",
    "m = [0]\n",
    "p[0] = pitch['score'].mean()\n",
    "m[0] = melon['score'].mean()\n",
    "rate=pd.DataFrame({'Pitchfork':p,'Anthony Fantano':m})\n",
    "rate.plot.bar()\n",
    "plt.title('Comparison of Average Scores')\n",
    "p[0] = len(pitch.index)\n",
    "m[0] = len(melon.index)\n",
    "no=pd.DataFrame({'Pitchfork':p,'Anthony Fantano':m})\n",
    "no.plot.bar()\n",
    "plt.title('Comparison of total Albums rated')"
   ]
  },
  {
   "cell_type": "code",
   "execution_count": 498,
   "metadata": {},
   "outputs": [
    {
     "data": {
      "text/plain": [
       "<matplotlib.axes._subplots.AxesSubplot at 0x7f8c6fe32be0>"
      ]
     },
     "execution_count": 498,
     "metadata": {},
     "output_type": "execute_result"
    },
    {
     "data": {
      "image/png": "[encoded data removed]",
      "text/plain": [
       "<Figure size 432x288 with 1 Axes>"
      ]
     },
     "metadata": {},
     "output_type": "display_data"
    }
   ],
   "source": [
    "years = [1999,2000,2001,2002,2003,2004,2005,2006,2007,2008,2009,2010,2011,2012,2013,2014,2015,2016,2017,2018]\n",
    "pcount = [0,0,0,0,0,0,0,0,0,0,0,0,0,0,0,0,0,0,0,0]\n",
    "mcount = [0,0,0,0,0,0,0,0,0,0,0,0,0,0,0,0,0,0,0,0] \n",
    "def pcompare():\n",
    "    for i in range(20):\n",
    "        for j in range(19555):\n",
    "            if str(years[i]) in pitch.at[j,'date']:\n",
    "                pcount[i] = pcount[i] + 1\n",
    "def mcompare():\n",
    "    for i in range(20):\n",
    "        for j in range(1736):\n",
    "            if str(years[i]) in melon.at[j,'review_date']:\n",
    "                mcount[i] = mcount[i] + 1\n",
    "mcompare()\n",
    "pcompare()\n",
    "#p4k = pd.Dataframe\n",
    "compare = pd.DataFrame({'Pitchfork':pcount,'Anthony Fantano':mcount},index=years)\n",
    "compare.plot.bar()"
   ]
  },
  {
   "cell_type": "code",
   "execution_count": null,
   "metadata": {},
   "outputs": [],
   "source": []
  }
 ],
 "metadata": {
  "kernelspec": {
   "display_name": "Python 3",
   "language": "python",
   "name": "python3"
  },
  "language_info": {
   "codemirror_mode": {
    "name": "ipython",
    "version": 3
   },
   "file_extension": ".py",
   "mimetype": "text/x-python",
   "name": "python",
   "nbconvert_exporter": "python",
   "pygments_lexer": "ipython3",
   "version": "3.6.5"
  }
 },
 "nbformat": 4,
 "nbformat_minor": 2
}
